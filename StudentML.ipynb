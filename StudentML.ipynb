{
 "cells": [
  {
   "cell_type": "code",
   "execution_count": 9,
   "id": "million-intersection",
   "metadata": {},
   "outputs": [],
   "source": [
    "#Dependencies\n",
    "import pandas as pd\n",
    "import numpy as np\n",
    "import sklearn\n",
    "from sklearn import linear_model\n",
    "from sklearn.utils import shuffle\n"
   ]
  },
  {
   "cell_type": "code",
   "execution_count": 10,
   "id": "perceived-momentum",
   "metadata": {},
   "outputs": [
    {
     "data": {
      "text/html": [
       "<div>\n",
       "<style scoped>\n",
       "    .dataframe tbody tr th:only-of-type {\n",
       "        vertical-align: middle;\n",
       "    }\n",
       "\n",
       "    .dataframe tbody tr th {\n",
       "        vertical-align: top;\n",
       "    }\n",
       "\n",
       "    .dataframe thead th {\n",
       "        text-align: right;\n",
       "    }\n",
       "</style>\n",
       "<table border=\"1\" class=\"dataframe\">\n",
       "  <thead>\n",
       "    <tr style=\"text-align: right;\">\n",
       "      <th></th>\n",
       "      <th>school,sex,age,address,famsize,Pstatus,Medu,Fedu,Mjob,Fjob,reason,guardian,traveltime,studytime,failures,schoolsup,famsup,paid,activities,nursery,higher,internet,romantic,famrel,freetime,goout,Dalc,Walc,health,absences,G1,G2,G3</th>\n",
       "    </tr>\n",
       "  </thead>\n",
       "  <tbody>\n",
       "    <tr>\n",
       "      <th>0</th>\n",
       "      <td>GP,F,18,U,GT3,A,4,4,at_home,teacher,course,mot...</td>\n",
       "    </tr>\n",
       "    <tr>\n",
       "      <th>1</th>\n",
       "      <td>GP,F,17,U,GT3,T,1,1,at_home,other,course,fathe...</td>\n",
       "    </tr>\n",
       "    <tr>\n",
       "      <th>2</th>\n",
       "      <td>GP,F,15,U,LE3,T,1,1,at_home,other,other,mother...</td>\n",
       "    </tr>\n",
       "    <tr>\n",
       "      <th>3</th>\n",
       "      <td>GP,F,15,U,GT3,T,4,2,health,services,home,mothe...</td>\n",
       "    </tr>\n",
       "    <tr>\n",
       "      <th>4</th>\n",
       "      <td>GP,F,16,U,GT3,T,3,3,other,other,home,father,1,...</td>\n",
       "    </tr>\n",
       "    <tr>\n",
       "      <th>...</th>\n",
       "      <td>...</td>\n",
       "    </tr>\n",
       "    <tr>\n",
       "      <th>390</th>\n",
       "      <td>MS,M,20,U,LE3,A,2,2,services,services,course,o...</td>\n",
       "    </tr>\n",
       "    <tr>\n",
       "      <th>391</th>\n",
       "      <td>MS,M,17,U,LE3,T,3,1,services,services,course,m...</td>\n",
       "    </tr>\n",
       "    <tr>\n",
       "      <th>392</th>\n",
       "      <td>MS,M,21,R,GT3,T,1,1,other,other,course,other,1...</td>\n",
       "    </tr>\n",
       "    <tr>\n",
       "      <th>393</th>\n",
       "      <td>MS,M,18,R,LE3,T,3,2,services,other,course,moth...</td>\n",
       "    </tr>\n",
       "    <tr>\n",
       "      <th>394</th>\n",
       "      <td>MS,M,19,U,LE3,T,1,1,other,at_home,course,fathe...</td>\n",
       "    </tr>\n",
       "  </tbody>\n",
       "</table>\n",
       "<p>395 rows × 1 columns</p>\n",
       "</div>"
      ],
      "text/plain": [
       "    school,sex,age,address,famsize,Pstatus,Medu,Fedu,Mjob,Fjob,reason,guardian,traveltime,studytime,failures,schoolsup,famsup,paid,activities,nursery,higher,internet,romantic,famrel,freetime,goout,Dalc,Walc,health,absences,G1,G2,G3\n",
       "0    GP,F,18,U,GT3,A,4,4,at_home,teacher,course,mot...                                                                                                                                                                                 \n",
       "1    GP,F,17,U,GT3,T,1,1,at_home,other,course,fathe...                                                                                                                                                                                 \n",
       "2    GP,F,15,U,LE3,T,1,1,at_home,other,other,mother...                                                                                                                                                                                 \n",
       "3    GP,F,15,U,GT3,T,4,2,health,services,home,mothe...                                                                                                                                                                                 \n",
       "4    GP,F,16,U,GT3,T,3,3,other,other,home,father,1,...                                                                                                                                                                                 \n",
       "..                                                 ...                                                                                                                                                                                 \n",
       "390  MS,M,20,U,LE3,A,2,2,services,services,course,o...                                                                                                                                                                                 \n",
       "391  MS,M,17,U,LE3,T,3,1,services,services,course,m...                                                                                                                                                                                 \n",
       "392  MS,M,21,R,GT3,T,1,1,other,other,course,other,1...                                                                                                                                                                                 \n",
       "393  MS,M,18,R,LE3,T,3,2,services,other,course,moth...                                                                                                                                                                                 \n",
       "394  MS,M,19,U,LE3,T,1,1,other,at_home,course,fathe...                                                                                                                                                                                 \n",
       "\n",
       "[395 rows x 1 columns]"
      ]
     },
     "execution_count": 10,
     "metadata": {},
     "output_type": "execute_result"
    }
   ],
   "source": [
    "data_csv = pd.read_csv(\"student-mat.csv\", sep=\";\")\n",
    "data_df = pd.DataFrame(data_csv)\n",
    "data_df\n",
    "#LEGEND:\n",
    "#M/Fedu - Education for parents: 0-none, 1-primary, 2-grade 5 to 9, 3-secondary edu, 4-higher edu\n",
    "#abscenses - total abscenses: 0-93\n",
    "#studytime - weekly study time: 1-<2 hours, 2-2to5hr, 3-5to10hr, 4->10hr\n",
    "#internet - Internet access at home Y/N = 0/1\n",
    "#activities - extracurricular activities Y/N = 0/1\n",
    "#Pstatis - living together or apart T/A = 0/1\n",
    "#romantic - in a relationship Y/N = 0/1\n",
    "#paid - extra paid classes related to course Y/N = 0/1\n",
    "#famrel - Family Relation Status 1(very bad)-5(excellent) \n",
    "#sex - M/F = 0/1"
   ]
  },
  {
   "cell_type": "code",
   "execution_count": 3,
   "id": "textile-syntax",
   "metadata": {},
   "outputs": [
    {
     "ename": "KeyError",
     "evalue": "\"None of [Index(['G1', 'G2', 'G3', 'sex', 'Medu', 'Fedu', 'absences', 'internet',\\n       'studytime', 'failures', 'activities', 'Pstatus', 'romantic', 'paid',\\n       'famrel'],\\n      dtype='object')] are in the [columns]\"",
     "output_type": "error",
     "traceback": [
      "\u001b[1;31m---------------------------------------------------------------------------\u001b[0m",
      "\u001b[1;31mKeyError\u001b[0m                                  Traceback (most recent call last)",
      "\u001b[1;32m<ipython-input-3-1c11f3c3e0a2>\u001b[0m in \u001b[0;36m<module>\u001b[1;34m\u001b[0m\n\u001b[0;32m      1\u001b[0m \u001b[1;31m#Create new dataframe, keeping only the columns we are interested in\u001b[0m\u001b[1;33m\u001b[0m\u001b[1;33m\u001b[0m\u001b[1;33m\u001b[0m\u001b[0m\n\u001b[1;32m----> 2\u001b[1;33m \u001b[0mdata\u001b[0m \u001b[1;33m=\u001b[0m \u001b[0mdata_df\u001b[0m\u001b[1;33m[\u001b[0m\u001b[1;33m[\u001b[0m\u001b[1;34m\"G1\"\u001b[0m\u001b[1;33m,\u001b[0m\u001b[1;34m\"G2\"\u001b[0m\u001b[1;33m,\u001b[0m\u001b[1;34m\"G3\"\u001b[0m\u001b[1;33m,\u001b[0m\u001b[1;34m\"sex\"\u001b[0m\u001b[1;33m,\u001b[0m \u001b[1;34m\"Medu\"\u001b[0m\u001b[1;33m,\u001b[0m \u001b[1;34m\"Fedu\"\u001b[0m\u001b[1;33m,\u001b[0m \u001b[1;34m\"absences\"\u001b[0m\u001b[1;33m,\u001b[0m \u001b[1;34m\"internet\"\u001b[0m\u001b[1;33m,\u001b[0m \u001b[1;34m\"studytime\"\u001b[0m\u001b[1;33m,\u001b[0m \u001b[1;34m\"failures\"\u001b[0m\u001b[1;33m,\u001b[0m \u001b[1;34m\"activities\"\u001b[0m\u001b[1;33m,\u001b[0m \u001b[1;34m\"Pstatus\"\u001b[0m\u001b[1;33m,\u001b[0m \u001b[1;34m\"romantic\"\u001b[0m\u001b[1;33m,\u001b[0m \u001b[1;34m\"paid\"\u001b[0m\u001b[1;33m,\u001b[0m\u001b[1;34m\"famrel\"\u001b[0m\u001b[1;33m]\u001b[0m\u001b[1;33m]\u001b[0m\u001b[1;33m\u001b[0m\u001b[1;33m\u001b[0m\u001b[0m\n\u001b[0m\u001b[0;32m      3\u001b[0m \u001b[0mdata1\u001b[0m \u001b[1;33m=\u001b[0m \u001b[0mpd\u001b[0m\u001b[1;33m.\u001b[0m\u001b[0mDataFrame\u001b[0m\u001b[1;33m(\u001b[0m\u001b[0mdata\u001b[0m\u001b[1;33m)\u001b[0m\u001b[1;33m\u001b[0m\u001b[1;33m\u001b[0m\u001b[0m\n\u001b[0;32m      4\u001b[0m \u001b[1;31m#Replacing str values with 0 and 1 to make it readable for the linear regression model\u001b[0m\u001b[1;33m\u001b[0m\u001b[1;33m\u001b[0m\u001b[1;33m\u001b[0m\u001b[0m\n\u001b[0;32m      5\u001b[0m \u001b[0mdata1\u001b[0m\u001b[1;33m.\u001b[0m\u001b[0mreplace\u001b[0m\u001b[1;33m(\u001b[0m\u001b[1;34m'F'\u001b[0m\u001b[1;33m,\u001b[0m\u001b[1;36m1\u001b[0m\u001b[1;33m,\u001b[0m\u001b[0minplace\u001b[0m\u001b[1;33m=\u001b[0m\u001b[1;32mTrue\u001b[0m\u001b[1;33m)\u001b[0m\u001b[1;33m\u001b[0m\u001b[1;33m\u001b[0m\u001b[0m\n",
      "\u001b[1;32mF:\\Vincent\\anaconda3\\envs\\PythonData\\lib\\site-packages\\pandas\\core\\frame.py\u001b[0m in \u001b[0;36m__getitem__\u001b[1;34m(self, key)\u001b[0m\n\u001b[0;32m   2804\u001b[0m             \u001b[1;32mif\u001b[0m \u001b[0mis_iterator\u001b[0m\u001b[1;33m(\u001b[0m\u001b[0mkey\u001b[0m\u001b[1;33m)\u001b[0m\u001b[1;33m:\u001b[0m\u001b[1;33m\u001b[0m\u001b[1;33m\u001b[0m\u001b[0m\n\u001b[0;32m   2805\u001b[0m                 \u001b[0mkey\u001b[0m \u001b[1;33m=\u001b[0m \u001b[0mlist\u001b[0m\u001b[1;33m(\u001b[0m\u001b[0mkey\u001b[0m\u001b[1;33m)\u001b[0m\u001b[1;33m\u001b[0m\u001b[1;33m\u001b[0m\u001b[0m\n\u001b[1;32m-> 2806\u001b[1;33m             \u001b[0mindexer\u001b[0m \u001b[1;33m=\u001b[0m \u001b[0mself\u001b[0m\u001b[1;33m.\u001b[0m\u001b[0mloc\u001b[0m\u001b[1;33m.\u001b[0m\u001b[0m_get_listlike_indexer\u001b[0m\u001b[1;33m(\u001b[0m\u001b[0mkey\u001b[0m\u001b[1;33m,\u001b[0m \u001b[0maxis\u001b[0m\u001b[1;33m=\u001b[0m\u001b[1;36m1\u001b[0m\u001b[1;33m,\u001b[0m \u001b[0mraise_missing\u001b[0m\u001b[1;33m=\u001b[0m\u001b[1;32mTrue\u001b[0m\u001b[1;33m)\u001b[0m\u001b[1;33m[\u001b[0m\u001b[1;36m1\u001b[0m\u001b[1;33m]\u001b[0m\u001b[1;33m\u001b[0m\u001b[1;33m\u001b[0m\u001b[0m\n\u001b[0m\u001b[0;32m   2807\u001b[0m \u001b[1;33m\u001b[0m\u001b[0m\n\u001b[0;32m   2808\u001b[0m         \u001b[1;31m# take() does not accept boolean indexers\u001b[0m\u001b[1;33m\u001b[0m\u001b[1;33m\u001b[0m\u001b[1;33m\u001b[0m\u001b[0m\n",
      "\u001b[1;32mF:\\Vincent\\anaconda3\\envs\\PythonData\\lib\\site-packages\\pandas\\core\\indexing.py\u001b[0m in \u001b[0;36m_get_listlike_indexer\u001b[1;34m(self, key, axis, raise_missing)\u001b[0m\n\u001b[0;32m   1551\u001b[0m \u001b[1;33m\u001b[0m\u001b[0m\n\u001b[0;32m   1552\u001b[0m         self._validate_read_indexer(\n\u001b[1;32m-> 1553\u001b[1;33m             \u001b[0mkeyarr\u001b[0m\u001b[1;33m,\u001b[0m \u001b[0mindexer\u001b[0m\u001b[1;33m,\u001b[0m \u001b[0mo\u001b[0m\u001b[1;33m.\u001b[0m\u001b[0m_get_axis_number\u001b[0m\u001b[1;33m(\u001b[0m\u001b[0maxis\u001b[0m\u001b[1;33m)\u001b[0m\u001b[1;33m,\u001b[0m \u001b[0mraise_missing\u001b[0m\u001b[1;33m=\u001b[0m\u001b[0mraise_missing\u001b[0m\u001b[1;33m\u001b[0m\u001b[1;33m\u001b[0m\u001b[0m\n\u001b[0m\u001b[0;32m   1554\u001b[0m         )\n\u001b[0;32m   1555\u001b[0m         \u001b[1;32mreturn\u001b[0m \u001b[0mkeyarr\u001b[0m\u001b[1;33m,\u001b[0m \u001b[0mindexer\u001b[0m\u001b[1;33m\u001b[0m\u001b[1;33m\u001b[0m\u001b[0m\n",
      "\u001b[1;32mF:\\Vincent\\anaconda3\\envs\\PythonData\\lib\\site-packages\\pandas\\core\\indexing.py\u001b[0m in \u001b[0;36m_validate_read_indexer\u001b[1;34m(self, key, indexer, axis, raise_missing)\u001b[0m\n\u001b[0;32m   1638\u001b[0m             \u001b[1;32mif\u001b[0m \u001b[0mmissing\u001b[0m \u001b[1;33m==\u001b[0m \u001b[0mlen\u001b[0m\u001b[1;33m(\u001b[0m\u001b[0mindexer\u001b[0m\u001b[1;33m)\u001b[0m\u001b[1;33m:\u001b[0m\u001b[1;33m\u001b[0m\u001b[1;33m\u001b[0m\u001b[0m\n\u001b[0;32m   1639\u001b[0m                 \u001b[0maxis_name\u001b[0m \u001b[1;33m=\u001b[0m \u001b[0mself\u001b[0m\u001b[1;33m.\u001b[0m\u001b[0mobj\u001b[0m\u001b[1;33m.\u001b[0m\u001b[0m_get_axis_name\u001b[0m\u001b[1;33m(\u001b[0m\u001b[0maxis\u001b[0m\u001b[1;33m)\u001b[0m\u001b[1;33m\u001b[0m\u001b[1;33m\u001b[0m\u001b[0m\n\u001b[1;32m-> 1640\u001b[1;33m                 \u001b[1;32mraise\u001b[0m \u001b[0mKeyError\u001b[0m\u001b[1;33m(\u001b[0m\u001b[1;34mf\"None of [{key}] are in the [{axis_name}]\"\u001b[0m\u001b[1;33m)\u001b[0m\u001b[1;33m\u001b[0m\u001b[1;33m\u001b[0m\u001b[0m\n\u001b[0m\u001b[0;32m   1641\u001b[0m \u001b[1;33m\u001b[0m\u001b[0m\n\u001b[0;32m   1642\u001b[0m             \u001b[1;31m# We (temporarily) allow for some missing keys with .loc, except in\u001b[0m\u001b[1;33m\u001b[0m\u001b[1;33m\u001b[0m\u001b[1;33m\u001b[0m\u001b[0m\n",
      "\u001b[1;31mKeyError\u001b[0m: \"None of [Index(['G1', 'G2', 'G3', 'sex', 'Medu', 'Fedu', 'absences', 'internet',\\n       'studytime', 'failures', 'activities', 'Pstatus', 'romantic', 'paid',\\n       'famrel'],\\n      dtype='object')] are in the [columns]\""
     ]
    }
   ],
   "source": [
    "#Create new dataframe, keeping only the columns we are interested in\n",
    "data = data_df[[\"G1\",\"G2\",\"G3\",\"sex\", \"Medu\", \"Fedu\", \"absences\", \"internet\", \"studytime\", \"failures\", \"activities\", \"Pstatus\", \"romantic\", \"paid\",\"famrel\"]]\n",
    "data1 = pd.DataFrame(data)\n",
    "#Replacing str values with 0 and 1 to make it readable for the linear regression model\n",
    "data1.replace('F',1,inplace=True)\n",
    "data1.replace('M',0,inplace=True)\n",
    "data1.replace('yes',0,inplace=True)\n",
    "data1.replace('no',1,inplace=True)\n",
    "data1.replace('A',1,inplace=True)\n",
    "data1.replace('T',0,inplace=True)\n",
    "data2 = data.copy()\n",
    "data_binary = pd.get_dummies(data2, columns=[\"sex\", \"internet\", \"activities\", \"Pstatus\", \"romantic\", \"paid\"])\n",
    "pd.set_option('max_columns', None)\n",
    "data_binary.head()"
   ]
  },
  {
   "cell_type": "code",
   "execution_count": null,
   "id": "australian-finding",
   "metadata": {},
   "outputs": [],
   "source": [
    "data_binary.rename(columns={\"sex_1\": \"sex_f\", \"sex_M\": \"sex_m\"})\n"
   ]
  },
  {
   "cell_type": "code",
   "execution_count": null,
   "id": "parental-giving",
   "metadata": {},
   "outputs": [],
   "source": [
    "#Linear Regression model\n",
    "predict = \"G3\"\n",
    "x = np.array(data_binary.drop([predict], 1))\n",
    "y = np.array(data_binary[predict])\n",
    "x_train, x_test, y_train, y_test = sklearn.model_selection.train_test_split(x, y, test_size = .2, random_state=8)\n",
    "linear = linear_model.LinearRegression()\n",
    "linear.fit(x_train, y_train)\n",
    "acc = linear.score(x_test, y_test)\n",
    "print(acc)\n",
    "print(linear.coef_)\n",
    "print(linear.intercept_)"
   ]
  },
  {
   "cell_type": "code",
   "execution_count": null,
   "id": "appointed-actress",
   "metadata": {
    "scrolled": false
   },
   "outputs": [],
   "source": [
    "predictions = linear.predict(x_test)\n",
    "for x in range(len(predictions)):\n",
    "    print(predictions[x], x_test[x], y_test[x])\n",
    "#How to read: EV[G1, G2, sex, Medu, Fedu, abscences, internet, studytime, failures, activities, Pstatus, romantic, paid, famrel]AV\n",
    "#EV - Expected Value, AV - Actual Value"
   ]
  },
  {
   "cell_type": "code",
   "execution_count": null,
   "id": "russian-moore",
   "metadata": {},
   "outputs": [],
   "source": [
    "style.use(\"ggplot\")"
   ]
  },
  {
   "cell_type": "code",
   "execution_count": null,
   "id": "aggressive-damage",
   "metadata": {},
   "outputs": [],
   "source": []
  }
 ],
 "metadata": {
  "kernelspec": {
   "display_name": "Python [conda env:PythonData] *",
   "language": "python",
   "name": "conda-env-PythonData-py"
  },
  "language_info": {
   "codemirror_mode": {
    "name": "ipython",
    "version": 3
   },
   "file_extension": ".py",
   "mimetype": "text/x-python",
   "name": "python",
   "nbconvert_exporter": "python",
   "pygments_lexer": "ipython3",
   "version": "3.6.10"
  }
 },
 "nbformat": 4,
 "nbformat_minor": 5
}
